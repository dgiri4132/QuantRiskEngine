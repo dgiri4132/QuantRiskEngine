{
  "nbformat": 4,
  "nbformat_minor": 0,
  "metadata": {
    "colab": {
      "provenance": [],
      "authorship_tag": "ABX9TyPZekpELLKWjXn+OGiTl9W/",
      "include_colab_link": true
    },
    "kernelspec": {
      "name": "python3",
      "display_name": "Python 3"
    },
    "language_info": {
      "name": "python"
    }
  },
  "cells": [
    {
      "cell_type": "markdown",
      "metadata": {
        "id": "view-in-github",
        "colab_type": "text"
      },
      "source": [
        "<a href=\"https://colab.research.google.com/github/dgiri4132/QuantRiskEngine/blob/main/QuantRiskEngine.ipynb\" target=\"_parent\"><img src=\"https://colab.research.google.com/assets/colab-badge.svg\" alt=\"Open In Colab\"/></a>"
      ]
    },
    {
      "cell_type": "code",
      "execution_count": 4,
      "metadata": {
        "colab": {
          "base_uri": "https://localhost:8080/"
        },
        "id": "vA4BO_v8tlhs",
        "outputId": "048bc8b5-1fe1-4535-812b-a5703e3c452b"
      },
      "outputs": [
        {
          "name": "stdout",
          "output_type": "stream",
          "text": [
            "Enter the number of stocks: 3\n",
            "Enter ticker 1: amzn\n",
            "Enter ticker 2: aapl\n",
            "Enter ticker 3: axp\n",
            "Enter start date (YYYY-MM-DD): 2024-01-01\n",
            "Enter end date (YYYY-MM-DD): 2025-01-01\n"
          ]
        },
        {
          "output_type": "stream",
          "name": "stderr",
          "text": [
            "[*********************100%***********************]  3 of 3 completed"
          ]
        },
        {
          "output_type": "stream",
          "name": "stdout",
          "text": [
            "Ticker          AAPL      AMZN       AXP\n",
            "Date                                    \n",
            "2024-01-03 -0.007487 -0.009738 -0.010568\n",
            "2024-01-04 -0.012700 -0.026268  0.007646\n",
            "2024-01-05 -0.004013  0.004634  0.010260\n",
            "2024-01-08  0.024175  0.026577  0.000793\n",
            "2024-01-09 -0.002263  0.015225 -0.012896\n"
          ]
        },
        {
          "output_type": "stream",
          "name": "stderr",
          "text": [
            "\n"
          ]
        }
      ],
      "source": [
        "import yfinance as yf\n",
        "import pandas as pd\n",
        "import numpy as np\n",
        "import matplotlib.pyplot as plt\n",
        "import seaborn as sns\n",
        "n=int(input('Enter the number of stocks: '))\n",
        "tickers = [input(f\"Enter ticker {i+1}: \").upper().strip() for i in range(n)]\n",
        "start_date=input('Enter start date (YYYY-MM-DD): ')\n",
        "end_date=input('Enter end date (YYYY-MM-DD): ')\n",
        "df=yf.download(tickers,start=start_date,end=end_date, auto_adjust=False)['Adj Close'].dropna()\n",
        "returns=df.pct_change().dropna()\n",
        "print(returns.head())"
      ]
    }
  ]
}